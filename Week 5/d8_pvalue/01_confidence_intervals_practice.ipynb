{
 "cells": [
  {
   "cell_type": "markdown",
   "metadata": {},
   "source": [
    "# Practice notebook for confidence intervals using NHANES data\n",
    "\n",
    "This notebook will give you the opportunity to practice working with confidence intervals using the NHANES data.\n",
    "\n",
    "You can enter your code into the cells that say \"enter your code here\", and you can type responses to the questions into the cells that say \"Type Markdown and Latex\".\n",
    "\n",
    "Note that most of the code that you will need to write below is very similar to code that appears in the case study notebook.  You will need to edit code from that notebook in small ways to adapt it to the prompts below.\n",
    "\n",
    "To get started, we will use the same module imports and read the data in the same way as we did in the case study:"
   ]
  },
  {
   "cell_type": "code",
   "execution_count": 1,
   "metadata": {
    "ExecuteTime": {
     "end_time": "2021-01-08T10:02:02.735087Z",
     "start_time": "2021-01-08T10:01:58.546573Z"
    }
   },
   "outputs": [],
   "source": [
    "%matplotlib inline\n",
    "import matplotlib.pyplot as plt\n",
    "import pandas as pd\n",
    "import numpy as np\n",
    "import seaborn as sns\n",
    "import statsmodels.api as sm\n",
    "\n",
    "da = pd.read_csv(\"nhanes_2015_2016.csv\")"
   ]
  },
  {
   "cell_type": "markdown",
   "metadata": {},
   "source": [
    "## Question 1\n",
    "\n",
    "Restrict the sample to women between 35 and 50, then use the marital status variable [DMDMARTL](https://wwwn.cdc.gov/Nchs/Nhanes/2015-2016/DEMO_I.htm#DMDMARTL) to partition this sample into two groups - women who are currently married, and women who are not currently married.  Within each of these groups, calculate the proportion of women who have completed college.  Calculate 95% confidence intervals for each of these proportions."
   ]
  },
  {
   "cell_type": "code",
   "execution_count": 16,
   "metadata": {
    "ExecuteTime": {
     "end_time": "2021-01-08T10:24:28.186633Z",
     "start_time": "2021-01-08T10:24:28.165442Z"
    }
   },
   "outputs": [
    {
     "name": "stdout",
     "output_type": "stream",
     "text": [
      "CI for married collage (0.338591859422365, 0.38301170405202245) total married is 1796\n",
      "CI for married not going to collage (0.6169882959479774, 0.661408140577635)\n",
      "CI for unmarried collage (0.1911929595750938, 0.2348425433834861) total unmarried is 1352\n",
      "CI for unmarried not going to collage (0.7651574566165139, 0.8088070404249063)\n"
     ]
    }
   ],
   "source": [
    "\n",
    "da2 = da[['RIDAGEYR','DMDMARTL','DMDEDUC2','RIAGENDR']]\n",
    "da2 = da2[da2['RIAGENDR']==2]\n",
    "da2 = da2[da2['RIDAGEYR']>=35]\n",
    "da2 = da2[da2['RIDAGEYR']<=50]\n",
    "total = da2.size\n",
    "\n",
    "da2['DMDMARTL'] = da2.DMDMARTL.replace({1:\"Married\", 2:\"Not Married\",3:\"Not Married\",4:\"Not Married\", 5:\"Not Married\",6:\"Not Married\",77:\"Not Married\",99:\"Not Married\"})\n",
    "da2.rename(columns = {'RIDAGEYR':'Age','DMDMARTL':'Married?','DMDEDUC2':'Collage?'}, inplace = True)\n",
    "\n",
    "total_married = da2[da2['Married?']==\"Married\"]\n",
    "total_married_collage_count = total_married[total_married['Collage?']==5].size\n",
    "# 95% CI for the proportion of married women who completed collage\n",
    "ci_collage = sm.stats.proportion_confint(total_married_collage_count, total_married.size)\n",
    "# 95% CI for the proportion of married women who did not complete collage\n",
    "ci_no_collage = sm.stats.proportion_confint(total_married.size - total_married_collage_count, total_married.size)\n",
    "\n",
    "total_not_married = da2[da2['Married?']!= \"Married\"]\n",
    "total_not_married_collage_count = total_not_married[total_not_married['Collage?']==5].size\n",
    "# 95% CI for the proportion of married women who completed collage\n",
    "ci_not_married_collage = sm.stats.proportion_confint(total_not_married_collage_count, total_not_married.size)\n",
    "# 95% CI for the proportion of married women who did not complete collage\n",
    "ci_not_married_no_collage = sm.stats.proportion_confint(total_not_married.size - total_not_married_collage_count, total_not_married.size)\n",
    "\n",
    "\n",
    "print(\"CI for married collage\", ci_collage, \"total married is\", total_married.size)\n",
    "print(\"CI for married not going to collage\", ci_no_collage)\n",
    "print(\"CI for unmarried collage\", ci_not_married_collage, \"total unmarried is\", total_not_married.size)\n",
    "print(\"CI for unmarried not going to collage\", ci_not_married_no_collage)"
   ]
  },
  {
   "cell_type": "markdown",
   "metadata": {},
   "source": [
    "__Q1a.__ Identify which of the two confidence intervals is wider, and explain why this is the case. "
   ]
  },
  {
   "cell_type": "markdown",
   "metadata": {},
   "source": [
    "The condidence interval for Married women who atttend collage is wider. This is likely due to the sample sizes used"
   ]
  },
  {
   "cell_type": "markdown",
   "metadata": {},
   "source": [
    "__Q1b.__ Write 1-2 sentences summarizing these findings for an audience that does not know what a confidence interval is (the goal here is to report the substance of what you learned about how marital status and educational attainment are related, not to teach a person what a confidence interval is)."
   ]
  },
  {
   "cell_type": "markdown",
   "metadata": {},
   "source": [
    "From the data above we have a 95% confidence that between 34% and 38% of married women complted collage, while between 19% and 23% of currenlty unmarried women did not complete collage. \n",
    "We don't have enough dat to draw any conculsions regarding the underlying reasons for this disparrity. "
   ]
  },
  {
   "cell_type": "markdown",
   "metadata": {},
   "source": [
    "## Question 2\n",
    "\n",
    "Construct 95% confidence intervals for the proportion of smokers who are female, and for the proportion of smokers who are male.  Then construct a 95% confidence interval for the difference between these proportions."
   ]
  },
  {
   "cell_type": "code",
   "execution_count": 20,
   "metadata": {
    "ExecuteTime": {
     "end_time": "2021-01-08T11:07:43.786137Z",
     "start_time": "2021-01-08T11:07:43.747089Z"
    }
   },
   "outputs": [
    {
     "name": "stdout",
     "output_type": "stream",
     "text": [
      "Confidence Interval Females  (0.2882949879861214, 0.32139545615923526)\n",
      "Confidence Interval Males (0.49458749263718593, 0.5319290347874418)\n",
      "0.008444152146214435\n",
      "0.009526078653689868\n",
      "-0.2338728044024504 -0.18295327887682067\n",
      "-0.20841304163963553\n"
     ]
    }
   ],
   "source": [
    "da[\"SMQ020x\"] = da.SMQ020.replace({1: \"Yes\", 2: \"No\", 7: np.nan, 9: np.nan})  # np.nan represents a missing value\n",
    "da[\"RIAGENDRx\"] = da.RIAGENDR.replace({1: \"Male\", 2: \"Female\"})\n",
    "dx = da[[\"SMQ020x\", \"RIAGENDRx\"]].dropna()  # dropna drops cases where either variable is missing\n",
    "pd.crosstab(dx.SMQ020x, dx.RIAGENDRx)\n",
    "male_smoke = sm.stats.proportion_confint(1413, 1340+1413)\n",
    "female_smoke = sm.stats.proportion_confint(906, 906+2066)  \n",
    "print(\"Confidence Interval Females \", female_smoke)\n",
    "print(\"Confidence Interval Males\", male_smoke)\n",
    "#work out confidence interval of 2 proportions \n",
    "dz = dx.groupby(dx.RIAGENDRx).agg({\"SMQ020x\": [lambda x: np.mean(x==\"Yes\"), np.size]})\n",
    "dz.columns = [\"Proportion\", \"Total_n\"] # The default column names are unclear, so we replace them here\n",
    "p = dz.Proportion.Female # Female proportion\n",
    "n = dz.Total_n.Female # Total number of females\n",
    "se_female = np.sqrt(p * (1 - p) / n)\n",
    "print(se_female)\n",
    "p = dz.Proportion.Male # Male proportion\n",
    "n = dz[\"Total_n\"].Male # Total number of males\n",
    "se_male = np.sqrt(p * (1 - p) / n)\n",
    "print(se_male)\n",
    "se_diff = np.sqrt(se_female**2 + se_male**2)\n",
    "d = dz.Proportion.Female - dz.Proportion.Male\n",
    "lcb = d - 2*se_diff\n",
    "ucb = d + 2*se_diff\n",
    "print(lcb, ucb)\n",
    "print(d)"
   ]
  },
  {
   "cell_type": "markdown",
   "metadata": {},
   "source": [
    "__Q2a.__ Discuss why it may be relevant to report the proportions of smokers who are female and male, and contrast this to reporting the proportions of males and females who smoke."
   ]
  },
  {
   "cell_type": "markdown",
   "metadata": {},
   "source": [
    "It seems there is a clear differance betweent he 2 genders it therefore makes more sense to seprate them.  "
   ]
  },
  {
   "cell_type": "markdown",
   "metadata": {},
   "source": [
    "__Q2b.__ How does the width of the confidence interval for the difference of the two proportions compare to the widths of the confidence intervals for each proportion separately?"
   ]
  },
  {
   "cell_type": "markdown",
   "metadata": {},
   "source": [
    "The width is similar which make sense and it is representing the same orginal data in a new form. "
   ]
  },
  {
   "cell_type": "markdown",
   "metadata": {},
   "source": [
    "## Question 3\n",
    "\n",
    "Construct a 95% interval for height ([BMXHT](https://wwwn.cdc.gov/Nchs/Nhanes/2015-2016/BMX_I.htm#BMXHT)) in centimeters.  Then convert height from centimeters to inches by dividing by 2.54, and construct a 95% confidence interval for height in inches.  Finally, convert the endpoints (the lower and upper confidence limits) of the confidence interval from inches to back to centimeters   "
   ]
  },
  {
   "cell_type": "code",
   "execution_count": 37,
   "metadata": {
    "ExecuteTime": {
     "end_time": "2021-01-08T11:31:04.802892Z",
     "start_time": "2021-01-08T11:31:04.792790Z"
    }
   },
   "outputs": [
    {
     "name": "stdout",
     "output_type": "stream",
     "text": [
      "163.44722726353805 169.540772736462  cm\n",
      "62.50204616117581 68.59559163409976  Inch\n",
      "158.75519724938655 174.2328027506134  back to cm\n"
     ]
    }
   ],
   "source": [
    "height = da['BMXHT']\n",
    "height_sample = height.loc[:49]\n",
    "se = np.std(height_sample)/np.sqrt(50)\n",
    "mean = np.mean(height_sample)\n",
    "lcb_height = mean - 1.96 * se\n",
    "ucb_height = mean + 1.96 * se\n",
    "print(lcb_height, ucb_height, \" cm\")\n",
    "height_sample_inches = height_sample / 2.54\n",
    "\n",
    "se_inch = np.std(height_sample_inches)/np.sqrt(50)\n",
    "mean_inch = np.mean(height_sample_inches)\n",
    "lcb_height_inch = mean_inch - 1.96 * se\n",
    "ucb_height_inch = mean_inch + 1.96 * se\n",
    "print(lcb_height_inch, ucb_height_inch, \" Inch\")\n",
    "\n",
    "back_to_cm_lcb = lcb_height_inch * 2.54\n",
    "back_to_cm_ucb = ucb_height_inch * 2.54\n",
    "print(back_to_cm_lcb, back_to_cm_ucb, \" back to cm\")"
   ]
  },
  {
   "cell_type": "markdown",
   "metadata": {},
   "source": [
    "__Q3a.__ Describe how the confidence interval constructed in centimeters relates to the confidence interval constructed in inches."
   ]
  },
  {
   "cell_type": "markdown",
   "metadata": {},
   "source": [
    "The data above indicates that the accuarcy is less when using inchs for the calculation. When orginally calculated using cms the width of the confidece interval was approximatly 6 cm while it was approximately 16 cm when the clauations where done in inches and converted back to cm's   "
   ]
  },
  {
   "cell_type": "markdown",
   "metadata": {},
   "source": [
    "## Question 4\n",
    "\n",
    "Partition the sample based on 10-year age bands, i.e. the resulting groups will consist of people with ages from 18-28, 29-38, etc. Construct 95% confidence intervals for the difference between the mean BMI for females and for males within each age band."
   ]
  },
  {
   "cell_type": "code",
   "execution_count": 46,
   "metadata": {
    "ExecuteTime": {
     "end_time": "2021-01-08T11:57:40.080011Z",
     "start_time": "2021-01-08T11:57:40.023647Z"
    }
   },
   "outputs": [
    {
     "data": {
      "text/html": [
       "<div>\n",
       "<style scoped>\n",
       "    .dataframe tbody tr th:only-of-type {\n",
       "        vertical-align: middle;\n",
       "    }\n",
       "\n",
       "    .dataframe tbody tr th {\n",
       "        vertical-align: top;\n",
       "    }\n",
       "\n",
       "    .dataframe thead tr th {\n",
       "        text-align: left;\n",
       "    }\n",
       "\n",
       "    .dataframe thead tr:last-of-type th {\n",
       "        text-align: right;\n",
       "    }\n",
       "</style>\n",
       "<table border=\"1\" class=\"dataframe\">\n",
       "  <thead>\n",
       "    <tr>\n",
       "      <th></th>\n",
       "      <th colspan=\"13\" halign=\"left\">BMXBMI</th>\n",
       "    </tr>\n",
       "    <tr>\n",
       "      <th></th>\n",
       "      <th colspan=\"2\" halign=\"left\">mean</th>\n",
       "      <th colspan=\"2\" halign=\"left\">std</th>\n",
       "      <th colspan=\"2\" halign=\"left\">size</th>\n",
       "      <th colspan=\"2\" halign=\"left\">sem</th>\n",
       "      <th>mean_diff</th>\n",
       "      <th>sem_diff</th>\n",
       "      <th>lcb_diff</th>\n",
       "      <th>ucb_diff</th>\n",
       "      <th>width</th>\n",
       "    </tr>\n",
       "    <tr>\n",
       "      <th>RIAGENDRx</th>\n",
       "      <th>Female</th>\n",
       "      <th>Male</th>\n",
       "      <th>Female</th>\n",
       "      <th>Male</th>\n",
       "      <th>Female</th>\n",
       "      <th>Male</th>\n",
       "      <th>Female</th>\n",
       "      <th>Male</th>\n",
       "      <th></th>\n",
       "      <th></th>\n",
       "      <th></th>\n",
       "      <th></th>\n",
       "      <th></th>\n",
       "    </tr>\n",
       "    <tr>\n",
       "      <th>agegrp</th>\n",
       "      <th></th>\n",
       "      <th></th>\n",
       "      <th></th>\n",
       "      <th></th>\n",
       "      <th></th>\n",
       "      <th></th>\n",
       "      <th></th>\n",
       "      <th></th>\n",
       "      <th></th>\n",
       "      <th></th>\n",
       "      <th></th>\n",
       "      <th></th>\n",
       "      <th></th>\n",
       "    </tr>\n",
       "  </thead>\n",
       "  <tbody>\n",
       "    <tr>\n",
       "      <th>(18, 28]</th>\n",
       "      <td>28.019433</td>\n",
       "      <td>27.058186</td>\n",
       "      <td>8.048854</td>\n",
       "      <td>6.679515</td>\n",
       "      <td>498.0</td>\n",
       "      <td>458.0</td>\n",
       "      <td>0.360678</td>\n",
       "      <td>0.312113</td>\n",
       "      <td>0.961247</td>\n",
       "      <td>0.476973</td>\n",
       "      <td>0.026381</td>\n",
       "      <td>1.896114</td>\n",
       "      <td>-1.869734</td>\n",
       "    </tr>\n",
       "    <tr>\n",
       "      <th>(28, 38]</th>\n",
       "      <td>29.943443</td>\n",
       "      <td>29.697180</td>\n",
       "      <td>7.959097</td>\n",
       "      <td>6.726690</td>\n",
       "      <td>494.0</td>\n",
       "      <td>467.0</td>\n",
       "      <td>0.358097</td>\n",
       "      <td>0.311274</td>\n",
       "      <td>0.246263</td>\n",
       "      <td>0.474473</td>\n",
       "      <td>-0.683705</td>\n",
       "      <td>1.176230</td>\n",
       "      <td>-1.859935</td>\n",
       "    </tr>\n",
       "    <tr>\n",
       "      <th>(38, 48]</th>\n",
       "      <td>31.003733</td>\n",
       "      <td>29.514646</td>\n",
       "      <td>8.044642</td>\n",
       "      <td>6.104950</td>\n",
       "      <td>514.0</td>\n",
       "      <td>398.0</td>\n",
       "      <td>0.354834</td>\n",
       "      <td>0.306014</td>\n",
       "      <td>1.489086</td>\n",
       "      <td>0.468563</td>\n",
       "      <td>0.570703</td>\n",
       "      <td>2.407470</td>\n",
       "      <td>-1.836767</td>\n",
       "    </tr>\n",
       "    <tr>\n",
       "      <th>(48, 58]</th>\n",
       "      <td>30.787361</td>\n",
       "      <td>29.385132</td>\n",
       "      <td>7.647590</td>\n",
       "      <td>6.151534</td>\n",
       "      <td>454.0</td>\n",
       "      <td>419.0</td>\n",
       "      <td>0.358919</td>\n",
       "      <td>0.300522</td>\n",
       "      <td>1.402230</td>\n",
       "      <td>0.468120</td>\n",
       "      <td>0.484714</td>\n",
       "      <td>2.319745</td>\n",
       "      <td>-1.835031</td>\n",
       "    </tr>\n",
       "    <tr>\n",
       "      <th>(58, 68]</th>\n",
       "      <td>31.054664</td>\n",
       "      <td>29.232462</td>\n",
       "      <td>7.779502</td>\n",
       "      <td>5.959024</td>\n",
       "      <td>466.0</td>\n",
       "      <td>470.0</td>\n",
       "      <td>0.360378</td>\n",
       "      <td>0.274869</td>\n",
       "      <td>1.822202</td>\n",
       "      <td>0.453239</td>\n",
       "      <td>0.933853</td>\n",
       "      <td>2.710551</td>\n",
       "      <td>-1.776698</td>\n",
       "    </tr>\n",
       "    <tr>\n",
       "      <th>(68, 78]</th>\n",
       "      <td>30.537818</td>\n",
       "      <td>28.720270</td>\n",
       "      <td>6.780588</td>\n",
       "      <td>5.336652</td>\n",
       "      <td>279.0</td>\n",
       "      <td>307.0</td>\n",
       "      <td>0.405943</td>\n",
       "      <td>0.304579</td>\n",
       "      <td>1.817548</td>\n",
       "      <td>0.507502</td>\n",
       "      <td>0.822844</td>\n",
       "      <td>2.812252</td>\n",
       "      <td>-1.989407</td>\n",
       "    </tr>\n",
       "  </tbody>\n",
       "</table>\n",
       "</div>"
      ],
      "text/plain": [
       "              BMXBMI                                                         \\\n",
       "                mean                  std             size              sem   \n",
       "RIAGENDRx     Female       Male    Female      Male Female   Male    Female   \n",
       "agegrp                                                                        \n",
       "(18, 28]   28.019433  27.058186  8.048854  6.679515  498.0  458.0  0.360678   \n",
       "(28, 38]   29.943443  29.697180  7.959097  6.726690  494.0  467.0  0.358097   \n",
       "(38, 48]   31.003733  29.514646  8.044642  6.104950  514.0  398.0  0.354834   \n",
       "(48, 58]   30.787361  29.385132  7.647590  6.151534  454.0  419.0  0.358919   \n",
       "(58, 68]   31.054664  29.232462  7.779502  5.959024  466.0  470.0  0.360378   \n",
       "(68, 78]   30.537818  28.720270  6.780588  5.336652  279.0  307.0  0.405943   \n",
       "\n",
       "                                                                       \n",
       "                    mean_diff  sem_diff  lcb_diff  ucb_diff     width  \n",
       "RIAGENDRx      Male                                                    \n",
       "agegrp                                                                 \n",
       "(18, 28]   0.312113  0.961247  0.476973  0.026381  1.896114 -1.869734  \n",
       "(28, 38]   0.311274  0.246263  0.474473 -0.683705  1.176230 -1.859935  \n",
       "(38, 48]   0.306014  1.489086  0.468563  0.570703  2.407470 -1.836767  \n",
       "(48, 58]   0.300522  1.402230  0.468120  0.484714  2.319745 -1.835031  \n",
       "(58, 68]   0.274869  1.822202  0.453239  0.933853  2.710551 -1.776698  \n",
       "(68, 78]   0.304579  1.817548  0.507502  0.822844  2.812252 -1.989407  "
      ]
     },
     "execution_count": 46,
     "metadata": {},
     "output_type": "execute_result"
    }
   ],
   "source": [
    "# enter your code here\n",
    "# Calculate the mean, SD, and sample size for BMI within age/gender groups\n",
    "da[\"agegrp\"] = pd.cut(da.RIDAGEYR, [18, 28, 38, 48, 58, 68, 78])\n",
    "pr = da.groupby([\"agegrp\", \"RIAGENDRx\"]).agg({\"BMXBMI\": [np.mean, np.std, np.size]}).unstack()\n",
    "# Calculate the SEM for females and for males within each age band\n",
    "pr[\"BMXBMI\", \"sem\", \"Female\"] = pr[\"BMXBMI\", \"std\", \"Female\"] / np.sqrt(pr[\"BMXBMI\", \"size\", \"Female\"]) \n",
    "pr[\"BMXBMI\", \"sem\", \"Male\"] = pr[\"BMXBMI\", \"std\", \"Male\"] / np.sqrt(pr[\"BMXBMI\", \"size\", \"Male\"]) \n",
    "\n",
    "# Calculate the mean difference of BMI between females and males within each age band, also  calculate\n",
    "# its SE and the lower and upper limits of its 95% CI.\n",
    "pr[\"BMXBMI\", \"mean_diff\", \"\"] = pr[\"BMXBMI\", \"mean\", \"Female\"] - pr[\"BMXBMI\", \"mean\", \"Male\"]\n",
    "pr[\"BMXBMI\", \"sem_diff\", \"\"] = np.sqrt(pr[\"BMXBMI\", \"sem\", \"Female\"]**2 + pr[\"BMXBMI\", \"sem\", \"Male\"]**2) \n",
    "pr[\"BMXBMI\", \"lcb_diff\", \"\"] = pr[\"BMXBMI\", \"mean_diff\", \"\"] - 1.96 * pr[\"BMXBMI\", \"sem_diff\", \"\"] \n",
    "pr[\"BMXBMI\", \"ucb_diff\", \"\"] = pr[\"BMXBMI\", \"mean_diff\", \"\"] + 1.96 * pr[\"BMXBMI\", \"sem_diff\", \"\"]\n",
    "\n",
    "pr[\"BMXBMI\", \"width\", \"\"] = pr[\"BMXBMI\", \"lcb_diff\", \"\"] -  pr[\"BMXBMI\", \"ucb_diff\", \"\"]\n",
    "\n",
    "pr"
   ]
  },
  {
   "cell_type": "markdown",
   "metadata": {},
   "source": [
    "__Q4a.__ How do the widths of these confidence intervals differ?  Provide an explanation for any substantial diferences in the confidence interval widths that you see."
   ]
  },
  {
   "cell_type": "markdown",
   "metadata": {},
   "source": [
    "Between the ages 18 to 58 the widths remain fairly similar but once you past 58 the ranges are much bigger suggesting BMI differances between male and female are much greater in older people. "
   ]
  },
  {
   "cell_type": "markdown",
   "metadata": {},
   "source": [
    "## Question 5\n",
    "\n",
    "Construct a 95% confidence interval for the first and second systolic blood pressure measures, and for the difference between the first and second systolic blood pressure measurements within a subject."
   ]
  },
  {
   "cell_type": "code",
   "execution_count": 54,
   "metadata": {
    "ExecuteTime": {
     "end_time": "2021-01-08T12:54:37.826845Z",
     "start_time": "2021-01-08T12:54:37.817413Z"
    }
   },
   "outputs": [
    {
     "name": "stdout",
     "output_type": "stream",
     "text": [
      "Confidence interval 1st Systolic preasure  ( 122.94855793766261 132.7249114500925 )\n",
      "Confidence interval 2nd Systolic preasure  ( 122.51324015181243 132.2622700522692 )\n",
      "Confidence interval between the 2 Systolic preasures  ( 0.4353177858501752 0.46264139782328895 )\n"
     ]
    }
   ],
   "source": [
    "# enter code here 'BPXSY1' 'BPXSY2'\n",
    "sys_1 = da['BPXSY1']\n",
    "sys_2 = da['BPXSY2']\n",
    "#grab a sample of 50 \n",
    "sys_1 = sys_1.loc[:49]\n",
    "sys_2 = sys_2.loc[:49]\n",
    "se_sys_1 = np.std(sys_1)/np.sqrt(50)\n",
    "se_sys_2 = np.std(sys_2)/np.sqrt(50)\n",
    "mean_sys_1 = np.mean(sys_1)\n",
    "mean_sys_2 = np.mean(sys_2)\n",
    "\n",
    "lcb_sys_1 = mean_sys_1 - 1.96 * se_sys_1\n",
    "ucb_sys_1 = mean_sys_1 + 1.96 * se_sys_1\n",
    "lcb_sys_2 = mean_sys_2 - 1.96 * se_sys_2\n",
    "ucb_sys_2 = mean_sys_2 + 1.96 * se_sys_2\n",
    "\n",
    "print(\"Confidence interval 1st Systolic preasure\", \" (\", lcb_sys_1, ucb_sys_1,\")\")\n",
    "print(\"Confidence interval 2nd Systolic preasure\", \" (\", lcb_sys_2, ucb_sys_2,\")\")\n",
    "\n",
    "se_diff = se_sys_1 - se_sys_2\n",
    "mean_diff = mean_sys_1 - mean_sys_2\n",
    "lcb_sys_diff = mean_diff - 1.96 * se_diff\n",
    "ucb_sys_diff = mean_diff + 1.96 * se_diff\n",
    "\n",
    "print(\"Confidence interval between the 2 Systolic preasures\",\" (\", lcb_sys_diff, ucb_sys_diff,\")\")\n"
   ]
  },
  {
   "cell_type": "markdown",
   "metadata": {},
   "source": [
    "__Q5a.__ Based on these confidence intervals, would you say that a difference of zero between the population mean values of the first and second systolic blood pressure measures is consistent with the data?"
   ]
  },
  {
   "cell_type": "markdown",
   "metadata": {},
   "source": [
    "no, there is a samll differance which may be accounatble in testing erorrs but is still there. "
   ]
  },
  {
   "cell_type": "markdown",
   "metadata": {},
   "source": [
    "\n",
    "__Q5b.__ Discuss how the width of the confidence interval for the within-subject difference compares to the widths of the confidence intervals for the first and second measures."
   ]
  },
  {
   "cell_type": "markdown",
   "metadata": {},
   "source": [
    "The width between the first and second systolic preasures is very similar and the width of the interveral between the 2 data sets in much smaller which confirms that the orginal 2 are very close in the informaiton they show. "
   ]
  },
  {
   "cell_type": "markdown",
   "metadata": {},
   "source": [
    "## Question 6\n",
    "\n",
    "Construct a 95% confidence interval for the mean difference between the average age of a smoker, and the average age of a non-smoker."
   ]
  },
  {
   "cell_type": "code",
   "execution_count": 64,
   "metadata": {
    "ExecuteTime": {
     "end_time": "2021-01-08T13:16:12.589487Z",
     "start_time": "2021-01-08T13:16:12.574141Z"
    }
   },
   "outputs": [
    {
     "name": "stdout",
     "output_type": "stream",
     "text": [
      "Confidence interval for mean differance -6.064396378778839 -6.123103621221161\n"
     ]
    }
   ],
   "source": [
    "# insert your code here SMQ020x\n",
    "da[\"SMQ020x\"] = da.SMQ020.replace({1: \"Yes\", 2: \"No\", 7: np.nan, 9: np.nan})\n",
    "dx = da[[\"SMQ020x\", \"RIDAGEYR\"]].dropna()\n",
    "#get a sample \n",
    "dx = dx.loc[:49]\n",
    "total_count = dx['SMQ020x'].size\n",
    "smokers = dx[dx['SMQ020x']==\"Yes\"]\n",
    "non_smokers = dx[dx['SMQ020x']==\"No\"]\n",
    "ave_age_smokers = np.mean(smokers['RIDAGEYR'])\n",
    "se_smokers = np.std(smokers['RIDAGEYR'])/np.sqrt(50)\n",
    "ave_age_non_smokers = np.mean(non_smokers['RIDAGEYR'])\n",
    "se_non_smokers = np.std(non_smokers[\"RIDAGEYR\"])/np.sqrt(50)\n",
    "\n",
    "lcb_ci_mean_diff = (ave_age_non_smokers - ave_age_smokers) - 1.96 * (se_smokers - se_non_smokers)\n",
    "ucb_ci_mean_diff = (ave_age_non_smokers - ave_age_smokers) + 1.96 * (se_smokers - se_non_smokers)\n",
    "print(\"Confidence interval for mean differance\", lcb_ci_mean_diff, ucb_ci_mean_diff)"
   ]
  },
  {
   "cell_type": "markdown",
   "metadata": {},
   "source": [
    "__Q6a.__ Use graphical and numerical techniques to compare the variation in the ages of smokers to the variation in the ages of non-smokers.  "
   ]
  },
  {
   "cell_type": "code",
   "execution_count": 1,
   "metadata": {},
   "outputs": [],
   "source": [
    "# insert your code here\n"
   ]
  },
  {
   "cell_type": "markdown",
   "metadata": {},
   "source": [
    "__Q6b.__ Does it appear that uncertainty about the mean age of smokers, or uncertainty about the mean age of non-smokers contributed more to the uncertainty for the mean difference that we are focusing on here?"
   ]
  },
  {
   "cell_type": "markdown",
   "metadata": {},
   "source": [
    "It seems the variation in non smokers contributed more "
   ]
  }
 ],
 "metadata": {
  "kernelspec": {
   "display_name": "Python 3",
   "language": "python",
   "name": "python3"
  },
  "language_info": {
   "codemirror_mode": {
    "name": "ipython",
    "version": 3
   },
   "file_extension": ".py",
   "mimetype": "text/x-python",
   "name": "python",
   "nbconvert_exporter": "python",
   "pygments_lexer": "ipython3",
   "version": "3.8.5"
  }
 },
 "nbformat": 4,
 "nbformat_minor": 2
}
