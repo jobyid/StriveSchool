{
 "cells": [
  {
   "cell_type": "markdown",
   "metadata": {},
   "source": [
    "# Vectors and Matrices\n",
    "![title](./img/inception.jpg)\n",
    "Time to work! Remember to pair up with whom you got assigned on Monday :)"
   ]
  },
  {
   "cell_type": "markdown",
   "metadata": {},
   "source": [
    "## Vectors"
   ]
  },
  {
   "cell_type": "markdown",
   "metadata": {},
   "source": [
    "Lists can be used to represent mathematical vectors. In this exercise and several that follow you will write functions to perform standard operations on vectors. Create a file named vectors.py or use the Jupyter notebook provided\n",
    "\n",
    "Write a function add_vectors(u, v) that takes two lists of numbers of the same length, and returns a new list containing the sums of the corresponding elements of each.\n",
    "\n",
    "**Note that the text in \"\"\" \"\"\" is provided for you to accurately verify that your function works :)**"
   ]
  },
  {
   "cell_type": "code",
   "execution_count": 2,
   "metadata": {
    "ExecuteTime": {
     "end_time": "2020-12-14T16:29:46.182893Z",
     "start_time": "2020-12-14T16:29:45.090893Z"
    }
   },
   "outputs": [
    {
     "data": {
      "text/plain": [
       "[13, -4, 13, 5]"
      ]
     },
     "execution_count": 2,
     "metadata": {},
     "output_type": "execute_result"
    }
   ],
   "source": [
    "import numpy as np \n",
    "\n",
    "def add_vectors(u, v):\n",
    "    y = []\n",
    "    if len(u) == len(v):\n",
    "        i=-0\n",
    "        for x in u:\n",
    "            y.append(x + v[i])\n",
    "            i += 1\n",
    "    return y\n",
    "    \"\"\"\n",
    "      >>> add_vectors([1, 0], [1, 1])\n",
    "      [2, 1]\n",
    "      >>> add_vectors([1, 2], [1, 4])\n",
    "      [2, 6]\n",
    "      >>> add_vectors([1, 2, 1], [1, 4, 3])\n",
    "      [2, 6, 4]\n",
    "      >>> add_vectors([11, 0, -4, 5], [2, -4, 17, 0])\n",
    "      [13, -4, 13, 5]\n",
    "      >>> a = [1, 2, 3]\n",
    "      >>> b = [1, 1, 1]\n",
    "      >>> add_vectors(a, b)\n",
    "      [2, 3, 4]\n",
    "      >>> a\n",
    "      [1, 2, 3]\n",
    "      >>> b\n",
    "      [1, 1, 1]\n",
    "    \"\"\"\n",
    "add_vectors([11, 0, -4, 5], [2, -4, 17, 0])"
   ]
  },
  {
   "cell_type": "markdown",
   "metadata": {},
   "source": [
    "Write a function scalar_mult(s, v) that takes a number, s, and a list, v and returns the [scalar multiple](https://en.wikipedia.org/wiki/Scalar_multiplication) of v by s."
   ]
  },
  {
   "cell_type": "code",
   "execution_count": 4,
   "metadata": {
    "ExecuteTime": {
     "end_time": "2020-12-14T08:53:55.447810Z",
     "start_time": "2020-12-14T08:53:55.435090Z"
    }
   },
   "outputs": [
    {
     "data": {
      "text/plain": [
       "[5, 10]"
      ]
     },
     "execution_count": 4,
     "metadata": {},
     "output_type": "execute_result"
    }
   ],
   "source": [
    "def scalar_mult(s, v):\n",
    "    y = []\n",
    "    for x in v:\n",
    "        y.append(s*x)\n",
    "    return y\n",
    "    \"\"\"\n",
    "      >>> scalar_mult(5, [1, 2])\n",
    "      [5, 10]\n",
    "      >>> scalar_mult(3, [1, 0, -1])\n",
    "      [3, 0, -3]\n",
    "      >>> scalar_mult(7, [3, 0, 5, 11, 2])\n",
    "      [21, 0, 35, 77, 14]\n",
    "      >>> a = [1, 2, 3]\n",
    "      >>> scalar_mult(4, a)\n",
    "      [4, 8, 12]\n",
    "      >>> a\n",
    "      [1, 2, 3]\n",
    "    \"\"\"\n",
    "scalar_mult(5, [1, 2])"
   ]
  },
  {
   "cell_type": "markdown",
   "metadata": {},
   "source": [
    "Write a function dot_product(u, v) that takes two lists of numbers of the same length, and returns the sum of the products of the corresponding elements of each (the [dot_product](https://en.wikipedia.org/wiki/Dot_product)."
   ]
  },
  {
   "cell_type": "code",
   "execution_count": 15,
   "metadata": {
    "ExecuteTime": {
     "end_time": "2020-12-14T09:07:33.141041Z",
     "start_time": "2020-12-14T09:07:33.135182Z"
    }
   },
   "outputs": [
    {
     "data": {
      "text/plain": [
       "12"
      ]
     },
     "execution_count": 15,
     "metadata": {},
     "output_type": "execute_result"
    }
   ],
   "source": [
    "def dot_product(u, v):\n",
    "    y = 0\n",
    "    i = 0\n",
    "    if len(u) == len(v):\n",
    "        for x in u:\n",
    "            y = y + (x * v[i])\n",
    "            i += 1\n",
    "    return y\n",
    "    \"\"\"\n",
    "      >>> dot_product([1, 1], [1, 1])\n",
    "      2\n",
    "      >>> dot_product([1, 2], [1, 4])\n",
    "      9\n",
    "      >>> dot_product([1, 2, 1], [1, 4, 3])\n",
    "      12\n",
    "      >>> dot_product([2, 0, -1, 1], [1, 5, 2, 0])\n",
    "      0\n",
    "    \"\"\"\n",
    "dot_product([1, 2, 1], [1, 4, 3])"
   ]
  },
  {
   "cell_type": "markdown",
   "metadata": {},
   "source": [
    "## Matrices"
   ]
  },
  {
   "cell_type": "markdown",
   "metadata": {},
   "source": [
    "Create a new module named matrices.py or *use the Jupyter notebook provided* and add the following function, which returns a copy of nested lists of numbers such that the lists are not aliases:"
   ]
  },
  {
   "cell_type": "code",
   "execution_count": 3,
   "metadata": {
    "ExecuteTime": {
     "end_time": "2020-12-14T16:29:50.785947Z",
     "start_time": "2020-12-14T16:29:50.780337Z"
    }
   },
   "outputs": [
    {
     "data": {
      "text/plain": [
       "array([[1, 2],\n",
       "       [3, 4]])"
      ]
     },
     "execution_count": 3,
     "metadata": {},
     "output_type": "execute_result"
    }
   ],
   "source": [
    "def copy_matrix(matrix):\n",
    "    return np.copy(matrix)\n",
    "    \n",
    "    \"\"\"\n",
    "      >>> copy_matrix([[1, 2], [3, 4]])\n",
    "      [[1, 2], [3, 4]]\n",
    "      >>> copy_matrix([[1, 2, 3], [4, 5, 6]])\n",
    "      [[1, 2, 3], [4, 5, 6]]\n",
    "      >>> copy_matrix([[1, 2], [3, 4], [5, 6], [7, 8]])\n",
    "      [[1, 2], [3, 4], [5, 6], [7, 8]]\n",
    "      >>> m = [[1, 0, 0], [0, 2, 0], [0, 0, 3]]\n",
    "      >>> copyofm = copy_matrix(m)\n",
    "      >>> copyofm\n",
    "      [[1, 0, 0], [0, 2, 0], [0, 0, 3]]\n",
    "      >>> for row_num, row in enumerate(copyofm):\n",
    "      ...     for col_num, col_val in enumerate(row):\n",
    "      ...         copyofm[row_num][col_num] = 42\n",
    "      ...\n",
    "      >>> copyofm\n",
    "      [[42, 42, 42], [42, 42, 42], [42, 42, 42]]\n",
    "      >>> m\n",
    "      [[1, 0, 0], [0, 2, 0], [0, 0, 3]]\n",
    "    \"\"\"\n",
    "copy_matrix([[1, 2], [3, 4]])"
   ]
  },
  {
   "cell_type": "code",
   "execution_count": 4,
   "metadata": {
    "ExecuteTime": {
     "end_time": "2020-12-14T16:30:39.553432Z",
     "start_time": "2020-12-14T16:30:39.544794Z"
    }
   },
   "outputs": [
    {
     "data": {
      "text/plain": [
       "array([[3., 2., 5.],\n",
       "       [1., 4., 7.],\n",
       "       [0., 0., 0.]])"
      ]
     },
     "execution_count": 4,
     "metadata": {},
     "output_type": "execute_result"
    }
   ],
   "source": [
    "def add_row(matrix):\n",
    "    row_to_be_added = np.zeros(np.shape(matrix[0]))\n",
    "    return np.vstack ((matrix, row_to_be_added) ) \n",
    "    \"\"\"\n",
    "      >>> m = [[0, 0], [0, 0]]\n",
    "      >>> add_row(m)\n",
    "      [[0, 0], [0, 0], [0, 0]]\n",
    "      >>> n = [[3, 2, 5], [1, 4, 7]]\n",
    "      >>> add_row(n)\n",
    "      [[3, 2, 5], [1, 4, 7], [0, 0, 0]]\n",
    "      >>> n\n",
    "      [[3, 2, 5], [1, 4, 7]]\n",
    "    \"\"\"\n",
    "m = [[3, 2, 5], [1, 4, 7]]\n",
    "add_row(m)\n"
   ]
  },
  {
   "cell_type": "code",
   "execution_count": 38,
   "metadata": {
    "ExecuteTime": {
     "end_time": "2020-12-14T11:08:13.545641Z",
     "start_time": "2020-12-14T11:08:13.537015Z"
    }
   },
   "outputs": [
    {
     "name": "stdout",
     "output_type": "stream",
     "text": [
      "[0. 0.]\n"
     ]
    },
    {
     "data": {
      "text/plain": [
       "array([[0., 0., 0.],\n",
       "       [0., 0., 0.]])"
      ]
     },
     "execution_count": 38,
     "metadata": {},
     "output_type": "execute_result"
    }
   ],
   "source": [
    "def add_column(matrix):\n",
    "    col_to_be_added = np.zeros(np.shape(matrix[0]))\n",
    "    x = np.vstack ((matrix, col_to_be_added) )\n",
    "    y = np.reshape(x, (np.shape(matrix)[0], np.shape(matrix)[1] + 1))\n",
    "    return y \n",
    "    \"\"\"\n",
    "      >>> m = [[0, 0], [0, 0]]\n",
    "      >>> add_column(m)\n",
    "      [[0, 0, 0], [0, 0, 0]]\n",
    "      >>> n = [[3, 2], [5, 1], [4, 7]]\n",
    "      >>> add_column(n)\n",
    "      [[3, 2, 0], [5, 1, 0], [4, 7, 0]]\n",
    "      >>> n\n",
    "      [[3, 2], [5, 1], [4, 7]]\n",
    "    \"\"\"\n",
    "m = [[0, 0], [0, 0]]\n",
    "add_column(m)"
   ]
  },
  {
   "cell_type": "markdown",
   "metadata": {},
   "source": [
    "Write a function add_matrices(m1, m2) that adds m1 and m2 and returns a new matrix containing their sum. You can assume that m1 and m2 are the same size. You add two matrices by adding their corresponding values."
   ]
  },
  {
   "cell_type": "code",
   "execution_count": 6,
   "metadata": {
    "ExecuteTime": {
     "end_time": "2020-12-14T16:32:15.688241Z",
     "start_time": "2020-12-14T16:32:15.680883Z"
    }
   },
   "outputs": [
    {
     "data": {
      "text/plain": [
       "matrix([[3, 4],\n",
       "        [5, 6]])"
      ]
     },
     "execution_count": 6,
     "metadata": {},
     "output_type": "execute_result"
    }
   ],
   "source": [
    "def add_matrices(m1, m2):\n",
    "    m1 = np.matrix(m1)\n",
    "    m2 = np.matrix(m2)\n",
    "    return m1+m2 \n",
    "    \n",
    "    \"\"\"\n",
    "      >>> a = [[1, 2], [3, 4]]\n",
    "      >>> b = [[2, 2], [2, 2]]\n",
    "      >>> add_matrices(a, b)\n",
    "      [[3, 4], [5, 6]]\n",
    "      >>> c = [[8, 2], [3, 4], [5, 7]]\n",
    "      >>> d = [[3, 2], [9, 2], [10, 12]]\n",
    "      >>> add_matrices(c, d)\n",
    "      [[11, 4], [12, 6], [15, 19]]\n",
    "      >>> c\n",
    "      [[8, 2], [3, 4], [5, 7]]\n",
    "      >>> d\n",
    "      [[3, 2], [9, 2], [10, 12]]\n",
    "   \"\"\"\n",
    "a = [[1, 2], [3, 4]]\n",
    "b = [[2, 2], [2, 2]]\n",
    "add_matrices(a, b)"
   ]
  },
  {
   "cell_type": "markdown",
   "metadata": {},
   "source": [
    "Write a function scalar_mult(s, m) that multiplies a matrix, m, by a scalar, s."
   ]
  },
  {
   "cell_type": "code",
   "execution_count": 8,
   "metadata": {
    "ExecuteTime": {
     "end_time": "2020-12-14T16:34:58.235611Z",
     "start_time": "2020-12-14T16:34:58.229590Z"
    }
   },
   "outputs": [
    {
     "data": {
      "text/plain": [
       "matrix([[ 3,  6],\n",
       "        [ 9, 12]])"
      ]
     },
     "execution_count": 8,
     "metadata": {},
     "output_type": "execute_result"
    }
   ],
   "source": [
    "def scalar_mult(s, m):\n",
    "    m = np.matrix(m)\n",
    "    return m * s\n",
    "    \"\"\"\n",
    "      >>> a = [[1, 2], [3, 4]]\n",
    "      >>> scalar_mult(3, a)\n",
    "      [[3, 6], [9, 12]]\n",
    "      >>> b = [[3, 5, 7], [1, 1, 1], [0, 2, 0], [2, 2, 3]]\n",
    "      >>> scalar_mult(10, b)\n",
    "      [[30, 50, 70], [10, 10, 10], [0, 20, 0], [20, 20, 30]]\n",
    "      >>> b\n",
    "      [[3, 5, 7], [1, 1, 1], [0, 2, 0], [2, 2, 3]]\n",
    "    \"\"\"\n",
    "a = [[1, 2], [3, 4]]\n",
    "scalar_mult(3, a)"
   ]
  },
  {
   "cell_type": "markdown",
   "metadata": {},
   "source": [
    "Write functions row_times_column and matrix_mult:"
   ]
  },
  {
   "cell_type": "code",
   "execution_count": 11,
   "metadata": {
    "ExecuteTime": {
     "end_time": "2020-12-14T16:50:11.501207Z",
     "start_time": "2020-12-14T16:50:11.495459Z"
    }
   },
   "outputs": [
    {
     "data": {
      "text/plain": [
       "19"
      ]
     },
     "execution_count": 11,
     "metadata": {},
     "output_type": "execute_result"
    }
   ],
   "source": [
    "def row_times_column(m1, row, m2, column):\n",
    "    y = np.matmul(m1,m2)\n",
    "    return y[row][column]\n",
    "    \n",
    "    \"\"\"\n",
    "      >>> row_times_column([[1, 2], [3, 4]], 0, [[5, 6], [7, 8]], 0)\n",
    "      19\n",
    "      >>> row_times_column([[1, 2], [3, 4]], 0, [[5, 6], [7, 8]], 1)\n",
    "      22\n",
    "      >>> row_times_column([[1, 2], [3, 4]], 1, [[5, 6], [7, 8]], 0)\n",
    "      43\n",
    "      >>> row_times_column([[1, 2], [3, 4]], 1, [[5, 6], [7, 8]], 1)\n",
    "      50\n",
    "    \"\"\"\n",
    "row_times_column([[1, 2], [3, 4]], 0, [[5, 6], [7, 8]], 0)"
   ]
  },
  {
   "cell_type": "code",
   "execution_count": 57,
   "metadata": {
    "ExecuteTime": {
     "end_time": "2020-12-14T13:33:05.690396Z",
     "start_time": "2020-12-14T13:33:05.679090Z"
    }
   },
   "outputs": [
    {
     "data": {
      "text/plain": [
       "array([[19, 22],\n",
       "       [43, 50]])"
      ]
     },
     "execution_count": 57,
     "metadata": {},
     "output_type": "execute_result"
    }
   ],
   "source": [
    "def matrix_mult(m1, m2):\n",
    "    return np.matmul(m1,m2)\n",
    "    \"\"\"\n",
    "      >>> matrix_mult([[1, 2], [3,  4]], [[5, 6], [7, 8]])\n",
    "      [[19, 22], [43, 50]]\n",
    "      >>> matrix_mult([[1, 2, 3], [4,  5, 6]], [[7, 8], [9, 1], [2, 3]])\n",
    "      [[31, 19], [85, 55]]\n",
    "      >>> matrix_mult([[7, 8], [9, 1], [2, 3]], [[1, 2, 3], [4, 5, 6]])\n",
    "      [[39, 54, 69], [13, 23, 33], [14, 19, 24]]\n",
    "    \"\"\"\n",
    "matrix_mult([[1, 2], [3,  4]], [[5, 6], [7, 8]])"
   ]
  },
  {
   "cell_type": "markdown",
   "metadata": {},
   "source": [
    "Write a function transpose that takes a matrix as an argument and returns is transpose:"
   ]
  },
  {
   "cell_type": "code",
   "execution_count": 56,
   "metadata": {
    "ExecuteTime": {
     "end_time": "2020-12-14T12:04:10.409043Z",
     "start_time": "2020-12-14T12:04:10.404097Z"
    }
   },
   "outputs": [
    {
     "data": {
      "text/plain": [
       "array([[3],\n",
       "       [4],\n",
       "       [6]])"
      ]
     },
     "execution_count": 56,
     "metadata": {},
     "output_type": "execute_result"
    }
   ],
   "source": [
    "def transpose(m):\n",
    "    return np.transpose(m)\n",
    "    \"\"\"\n",
    "     >>> m = [[3, 4, 6]]\n",
    "     >>> transpose(m)\n",
    "     [[3], [4], [6]]\n",
    "     >>> m\n",
    "     [3, 4, 6]\n",
    "     >>> m = [[3, 4, 6], [1, 5, 9]]\n",
    "     >>> transpose(m)\n",
    "     [[3, 1], [4, 5], [6, 9]]\n",
    "   \"\"\"\n",
    "m = [[3, 4, 6]]\n",
    "transpose(m)"
   ]
  },
  {
   "cell_type": "code",
   "execution_count": null,
   "metadata": {},
   "outputs": [],
   "source": []
  }
 ],
 "metadata": {
  "kernelspec": {
   "display_name": "Python 3",
   "language": "python",
   "name": "python3"
  },
  "language_info": {
   "codemirror_mode": {
    "name": "ipython",
    "version": 3
   },
   "file_extension": ".py",
   "mimetype": "text/x-python",
   "name": "python",
   "nbconvert_exporter": "python",
   "pygments_lexer": "ipython3",
   "version": "3.8.5"
  }
 },
 "nbformat": 4,
 "nbformat_minor": 2
}
